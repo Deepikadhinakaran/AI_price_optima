{
  "nbformat": 4,
  "nbformat_minor": 0,
  "metadata": {
    "colab": {
      "provenance": [],
      "authorship_tag": "ABX9TyNPBrHIev/92uh3+gRs3X0j",
      "include_colab_link": true
    },
    "kernelspec": {
      "name": "python3",
      "display_name": "Python 3"
    },
    "language_info": {
      "name": "python"
    }
  },
  "cells": [
    {
      "cell_type": "markdown",
      "metadata": {
        "id": "view-in-github",
        "colab_type": "text"
      },
      "source": [
        "<a href=\"https://colab.research.google.com/github/Deepikadhinakaran/AI_price_optima/blob/main/fast_py.ipynb\" target=\"_parent\"><img src=\"https://colab.research.google.com/assets/colab-badge.svg\" alt=\"Open In Colab\"/></a>"
      ]
    },
    {
      "cell_type": "code",
      "source": [
        "!pip install fastapi uvicorn pyngrok nest_asyncio joblib\n"
      ],
      "metadata": {
        "id": "0HquYPGgd2y9",
        "colab": {
          "base_uri": "https://localhost:8080/"
        },
        "outputId": "1ae9b392-5f57-4744-8106-11beb65cec75"
      },
      "execution_count": 73,
      "outputs": [
        {
          "output_type": "stream",
          "name": "stdout",
          "text": [
            "Requirement already satisfied: fastapi in /usr/local/lib/python3.12/dist-packages (0.116.2)\n",
            "Requirement already satisfied: uvicorn in /usr/local/lib/python3.12/dist-packages (0.35.0)\n",
            "Requirement already satisfied: pyngrok in /usr/local/lib/python3.12/dist-packages (7.4.0)\n",
            "Requirement already satisfied: nest_asyncio in /usr/local/lib/python3.12/dist-packages (1.6.0)\n",
            "Requirement already satisfied: joblib in /usr/local/lib/python3.12/dist-packages (1.5.2)\n",
            "Requirement already satisfied: starlette<0.49.0,>=0.40.0 in /usr/local/lib/python3.12/dist-packages (from fastapi) (0.48.0)\n",
            "Requirement already satisfied: pydantic!=1.8,!=1.8.1,!=2.0.0,!=2.0.1,!=2.1.0,<3.0.0,>=1.7.4 in /usr/local/lib/python3.12/dist-packages (from fastapi) (2.11.9)\n",
            "Requirement already satisfied: typing-extensions>=4.8.0 in /usr/local/lib/python3.12/dist-packages (from fastapi) (4.15.0)\n",
            "Requirement already satisfied: click>=7.0 in /usr/local/lib/python3.12/dist-packages (from uvicorn) (8.2.1)\n",
            "Requirement already satisfied: h11>=0.8 in /usr/local/lib/python3.12/dist-packages (from uvicorn) (0.16.0)\n",
            "Requirement already satisfied: PyYAML>=5.1 in /usr/local/lib/python3.12/dist-packages (from pyngrok) (6.0.2)\n",
            "Requirement already satisfied: annotated-types>=0.6.0 in /usr/local/lib/python3.12/dist-packages (from pydantic!=1.8,!=1.8.1,!=2.0.0,!=2.0.1,!=2.1.0,<3.0.0,>=1.7.4->fastapi) (0.7.0)\n",
            "Requirement already satisfied: pydantic-core==2.33.2 in /usr/local/lib/python3.12/dist-packages (from pydantic!=1.8,!=1.8.1,!=2.0.0,!=2.0.1,!=2.1.0,<3.0.0,>=1.7.4->fastapi) (2.33.2)\n",
            "Requirement already satisfied: typing-inspection>=0.4.0 in /usr/local/lib/python3.12/dist-packages (from pydantic!=1.8,!=1.8.1,!=2.0.0,!=2.0.1,!=2.1.0,<3.0.0,>=1.7.4->fastapi) (0.4.1)\n",
            "Requirement already satisfied: anyio<5,>=3.6.2 in /usr/local/lib/python3.12/dist-packages (from starlette<0.49.0,>=0.40.0->fastapi) (4.10.0)\n",
            "Requirement already satisfied: idna>=2.8 in /usr/local/lib/python3.12/dist-packages (from anyio<5,>=3.6.2->starlette<0.49.0,>=0.40.0->fastapi) (3.10)\n",
            "Requirement already satisfied: sniffio>=1.1 in /usr/local/lib/python3.12/dist-packages (from anyio<5,>=3.6.2->starlette<0.49.0,>=0.40.0->fastapi) (1.3.1)\n"
          ]
        }
      ]
    },
    {
      "cell_type": "code",
      "source": [
        "import os\n",
        "import io\n",
        "import joblib\n",
        "import nest_asyncio\n",
        "import pandas as pd\n",
        "import numpy as np\n",
        "from fastapi import FastAPI, UploadFile, File, HTTPException\n",
        "from fastapi.middleware.cors import CORSMiddleware\n",
        "from pydantic import BaseModel\n",
        "from pyngrok import ngrok\n"
      ],
      "metadata": {
        "id": "1kFHd7ogih9_"
      },
      "execution_count": 74,
      "outputs": []
    },
    {
      "cell_type": "code",
      "source": [
        "MODEL_PATH = \"gradient_boosting_model.pkl\"\n",
        "DATA_CSV   = \"dynamic_pricing.csv\"\n",
        "\n",
        "try:\n",
        "    df_base_all = pd.read_csv(DATA_CSV)\n",
        "except Exception as e:\n",
        "    raise RuntimeError(f\"❌ Could not load {DATA_CSV}: {e}\")\n",
        "\n",
        "try:\n",
        "    best_pipe = joblib.load(MODEL_PATH)\n",
        "except Exception as e:\n",
        "    raise RuntimeError(f\"❌ Could not load model {MODEL_PATH}: {e}\")\n"
      ],
      "metadata": {
        "id": "ninnLkDRimDa"
      },
      "execution_count": 75,
      "outputs": []
    },
    {
      "cell_type": "code",
      "source": [
        "\n",
        "app = FastAPI(title=\"Dynamic Pricing API\", version=\"1.0.0\")\n",
        "\n",
        "#Enable CORS (so frontend apps can connect)\n",
        "\n",
        "app.add_middleware(\n",
        "CORSMiddleware,\n",
        "allow_origins=[\"\"],\n",
        "allow_credentials=True,\n",
        "allow_methods=[\"\"],\n",
        "allow_headers=[\"*\"],\n",
        ")"
      ],
      "metadata": {
        "id": "93m4flJhlTY2"
      },
      "execution_count": 76,
      "outputs": []
    },
    {
      "cell_type": "code",
      "source": [
        "class RecommendRequest(BaseModel):\n",
        "    record: dict"
      ],
      "metadata": {
        "id": "UrNneOFAizTf"
      },
      "execution_count": 77,
      "outputs": []
    },
    {
      "cell_type": "code",
      "source": [
        "@app.get(\"/health\")\n",
        "def health():\n",
        "    return {\"ok\": True, \"rows_loaded\": int(len(df_base_all))}\n",
        "\n",
        "@app.post(\"/recommend\")\n",
        "def recommend(req: RecommendRequest):\n",
        "    row = pd.DataFrame([req.record])\n",
        "\n",
        "    # Add missing columns if needed\n",
        "    missing = [c for c in df_base_all.columns if c not in row.columns]\n",
        "    for m in missing:\n",
        "        row[m] = 0\n",
        "\n",
        "    try:\n",
        "        pred = best_pipe.predict(row.drop(\"Price\", axis=1, errors=\"ignore\"))[0]\n",
        "    except Exception as e:\n",
        "        raise HTTPException(status_code=500, detail=str(e))\n",
        "\n",
        "    return {\"recommended_price\": float(pred)}\n",
        "\n",
        "\n",
        "@app.post(\"/recommend_batch\")\n",
        "def recommend_batch(file: UploadFile = File(...)):\n",
        "    try:\n",
        "        df = pd.read_csv(file.file)\n",
        "    except Exception as e:\n",
        "        raise HTTPException(status_code=400, detail=f\"Invalid file: {e}\")\n",
        "\n",
        "    try:\n",
        "        preds = best_pipe.predict(df.drop(\"Price\", axis=1, errors=\"ignore\"))\n",
        "    except Exception as e:\n",
        "        raise HTTPException(status_code=500, detail=str(e))\n",
        "\n",
        "    df[\"recommended_price\"] = preds\n",
        "    return {\"rows\": len(df), \"sample\": df.head(3).to_dict(orient=\"records\")}"
      ],
      "metadata": {
        "id": "aeXTePgmmscP"
      },
      "execution_count": 78,
      "outputs": []
    },
    {
      "cell_type": "code",
      "source": [
        "import uvicorn"
      ],
      "metadata": {
        "id": "VFCI5MienOpU"
      },
      "execution_count": 79,
      "outputs": []
    },
    {
      "cell_type": "code",
      "source": [
        "nest_asyncio.apply()"
      ],
      "metadata": {
        "id": "qSjHVyFpnkGx"
      },
      "execution_count": 80,
      "outputs": []
    },
    {
      "cell_type": "code",
      "source": [
        "!pip install pyngrok"
      ],
      "metadata": {
        "colab": {
          "base_uri": "https://localhost:8080/"
        },
        "id": "nsF5Inf2rzMU",
        "outputId": "b786b9c2-05ce-4a03-f1e8-939689fdcd4e"
      },
      "execution_count": 81,
      "outputs": [
        {
          "output_type": "stream",
          "name": "stdout",
          "text": [
            "Requirement already satisfied: pyngrok in /usr/local/lib/python3.12/dist-packages (7.4.0)\n",
            "Requirement already satisfied: PyYAML>=5.1 in /usr/local/lib/python3.12/dist-packages (from pyngrok) (6.0.2)\n"
          ]
        }
      ]
    },
    {
      "cell_type": "code",
      "source": [
        "import os\n",
        "from pyngrok import ngrok\n"
      ],
      "metadata": {
        "id": "pgkguNabnoh8"
      },
      "execution_count": 82,
      "outputs": []
    },
    {
      "cell_type": "code",
      "source": [
        "os.environ[\"NGROK_AUTH_TOKEN\"] = \"YOUR_NGROK_AUTH_TOKEN\""
      ],
      "metadata": {
        "id": "OneTF6QTro7F"
      },
      "execution_count": 83,
      "outputs": []
    },
    {
      "cell_type": "code",
      "source": [
        "%%writefile fast.py\n",
        "from fastapi import FastAPI\n",
        "\n",
        "app = FastAPI()\n",
        "\n",
        "@app.get(\"/\")\n",
        "def read_root():\n",
        "    return {\"Hello\": \"World\"}\n"
      ],
      "metadata": {
        "colab": {
          "base_uri": "https://localhost:8080/"
        },
        "id": "APhrAYuhwJ72",
        "outputId": "42921cf2-01c7-4a4c-f387-6cf390d99408"
      },
      "execution_count": 84,
      "outputs": [
        {
          "output_type": "stream",
          "name": "stdout",
          "text": [
            "Overwriting fast.py\n"
          ]
        }
      ]
    },
    {
      "cell_type": "code",
      "source": [
        "!uvicorn fast:app --host 0.0.0.0 --port 5000\n",
        "public_url = ngrok.connect(5000)\n",
        "print(\"🚀 Public API URL:\", public_url)\n"
      ],
      "metadata": {
        "colab": {
          "base_uri": "https://localhost:8080/"
        },
        "id": "UXDId1t7wOh0",
        "outputId": "a283380a-57b3-43e4-cba0-ad934241f5d6"
      },
      "execution_count": null,
      "outputs": [
        {
          "output_type": "stream",
          "name": "stdout",
          "text": [
            "\u001b[32mINFO\u001b[0m:     Started server process [\u001b[36m30391\u001b[0m]\n",
            "\u001b[32mINFO\u001b[0m:     Waiting for application startup.\n",
            "\u001b[32mINFO\u001b[0m:     Application startup complete.\n",
            "\u001b[32mINFO\u001b[0m:     Uvicorn running on \u001b[1mhttp://0.0.0.0:5000\u001b[0m (Press CTRL+C to quit)\n"
          ]
        }
      ]
    },
    {
      "cell_type": "code",
      "source": [],
      "metadata": {
        "id": "m2H1r5wssUFV"
      },
      "execution_count": null,
      "outputs": []
    }
  ]
}